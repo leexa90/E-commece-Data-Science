{
 "cells": [
  {
   "cell_type": "code",
   "execution_count": null,
   "metadata": {
    "collapsed": false,
    "deletable": true,
    "editable": true
   },
   "outputs": [
    {
     "name": "stdout",
     "output_type": "stream",
     "text": [
      "406829\n",
      "Index([u'InvoiceNo', u'StockCode', u'Description', u'Quantity', u'InvoiceDate',\n",
      "       u'UnitPrice', u'CustomerID', u'Country'],\n",
      "      dtype='object')\n",
      "     InvoiceNo StockCode                     Description  Quantity  \\\n",
      "5000    537026     22551        PLASTERS IN TIN SPACEBOY        12   \n",
      "5001    537026    85099B         JUMBO BAG RED RETROSPOT        10   \n",
      "5002    537026     22355       CHARLOTTE BAG SUKI DESIGN        10   \n",
      "5003    537026     84992  72 SWEETHEART FAIRY CAKE CASES        24   \n",
      "5004    537026      POST                         POSTAGE         2   \n",
      "\n",
      "          InvoiceDate  UnitPrice  CustomerID  Country  TotalRevenue  \n",
      "5000  12/3/2010 16:35       1.65     12395.0  Belgium          19.8  \n",
      "5001  12/3/2010 16:35       1.95     12395.0  Belgium          19.5  \n",
      "5002  12/3/2010 16:35       0.85     12395.0  Belgium           8.5  \n",
      "5003  12/3/2010 16:35       0.55     12395.0  Belgium          13.2  \n",
      "5004  12/3/2010 16:35      18.00     12395.0  Belgium          36.0  \n"
     ]
    }
   ],
   "source": [
    "import pandas as pd\n",
    "import numpy as np\n",
    "data = pd.read_csv('./data.csv')\n",
    "\n",
    "data = data[~data['CustomerID'].isna()].reset_index(drop=True)\n",
    "print len(data)\n",
    "print data.keys()\n",
    "import matplotlib.pyplot as plt\n",
    "data['TotalRevenue'] = data['Quantity']*data['UnitPrice']\n",
    "print data.iloc[5000:5005]"
   ]
  },
  {
   "cell_type": "code",
   "execution_count": null,
   "metadata": {
    "collapsed": false,
    "deletable": true,
    "editable": true
   },
   "outputs": [],
   "source": [
    "data['Month'] = data['InvoiceDate'].apply(lambda x : x.split('/')[0]).astype(np.uint8)\n",
    "data['Day'] = data['InvoiceDate'].apply(lambda x : x.split('/')[1]).astype(np.uint8)\n",
    "data['Year'] = data['InvoiceDate'].apply(lambda x : x.split('/')[2].split(' ')[0]).astype(np.uint16)\n",
    "data['Time'] = data['InvoiceDate'].apply(lambda x : x.split('/')[2].split(' ')[1])\n",
    "data['Hour']= data['Time'].apply(lambda x : x.split(':')[0]).astype(np.uint8)\n",
    "data['Min']= data['Time'].apply(lambda x : x.split(':')[1]).astype(np.uint8)\n",
    "print data.head()"
   ]
  },
  {
   "cell_type": "code",
   "execution_count": null,
   "metadata": {
    "collapsed": true,
    "deletable": true,
    "editable": true
   },
   "outputs": [],
   "source": [
    "temp = data.groupby(['CustomerID',])['TotalRevenue'].apply(sum).reset_index(drop=False)"
   ]
  },
  {
   "cell_type": "code",
   "execution_count": null,
   "metadata": {
    "collapsed": false,
    "deletable": true,
    "editable": true
   },
   "outputs": [],
   "source": [
    "#ignoring customers who causes losses because they are small portion of revenue\n",
    "bins=range(0000,300001,50000)\n",
    "xx=plt.hist(temp['TotalRevenue'],bins=bins)\n",
    "print xx\n",
    "plt.close()\n",
    "plt.subplots(figsize=(10,10))\n",
    "xxx=plt.hist(temp['TotalRevenue'],weights = temp['TotalRevenue'].values/1000000, bins=bins)\n",
    "for i in range(len(xxx[1])-1):\n",
    "    plt.text(xxx[1][i],xxx[0][i]+0.03,str(int(xx[0][i]))+' Customers',fontsize=12,fontweight='bold')\n",
    "plt.xticks(np.array(bins)+25000,['Spent\\n' + str(bins[x]/1000)+'k-'+str(bins[x+1]/1000)+'k' for x in  range(len(bins)-1)],rotation=60)\n",
    "plt.xlabel('Spending',fontsize=15,fontweight='bold')\n",
    "plt.ylabel('Contribution to Revenue in Millions',fontsize=15,fontweight='bold')\n",
    "plt.show()"
   ]
  },
  {
   "cell_type": "code",
   "execution_count": null,
   "metadata": {
    "collapsed": true,
    "deletable": true,
    "editable": true
   },
   "outputs": [],
   "source": [
    "#identiy bad customers"
   ]
  },
  {
   "cell_type": "code",
   "execution_count": null,
   "metadata": {
    "collapsed": true,
    "deletable": true,
    "editable": true
   },
   "outputs": [],
   "source": [
    "def f(x):\n",
    "    if  x[:-1].isdigit() and x[-1].isdigit() is False:\n",
    "        return x[:-1]\n",
    "    else : return x\n",
    "data['StockCode_NR'] = data['StockCode'].apply(f)\n",
    "\n",
    "#returns cost 0.1%, so ignore first\n",
    "data = data[data['TotalRevenue']>0].reset_index(drop=True)"
   ]
  },
  {
   "cell_type": "code",
   "execution_count": null,
   "metadata": {
    "collapsed": false,
    "deletable": true,
    "editable": true
   },
   "outputs": [],
   "source": [
    "# are there any subgroups of important customer\n",
    "temp = data.groupby(['CustomerID',])['TotalRevenue'].apply(sum).reset_index(drop=False)\n",
    "temp2 = temp.sort_values('TotalRevenue').iloc[::-1].reset_index(drop=True)\n",
    "result,val = [] ,0\n",
    "for i in range(len(temp2)):\n",
    "    val += temp2.iloc[i]['TotalRevenue']\n",
    "    result += [val,]\n",
    "temp2['cummulative_profit'] = np.array(result)/val\n",
    "for i in [0.01,0.1,1,2,5,10,20,50]:\n",
    "    num = int(len(temp2)*1.*i/100)\n",
    "    print num,\n",
    "    print 'Top %s percent of customers,%s percent of profit'%(i,100*np.round(temp2.loc[num]['cummulative_profit'],2))\n",
    "plt.plot(temp2['cummulative_profit']);plt.show()"
   ]
  },
  {
   "cell_type": "code",
   "execution_count": null,
   "metadata": {
    "collapsed": false,
    "deletable": true,
    "editable": true
   },
   "outputs": [],
   "source": [
    "# are there any subgroups of important customer\n",
    "temp = data.groupby(['StockCode_NR'])['TotalRevenue'].apply(sum).reset_index(drop=False)\n",
    "temp['num_times_brought'] = data.groupby(['StockCode_NR'])['TotalRevenue'].apply(len).reset_index(drop=True)\n",
    "temp2 = temp.sort_values('num_times_brought').iloc[::-1].reset_index(drop=True)\n",
    "\n",
    "result,val = [0,] ,0\n",
    "for i in range(len(temp2)):\n",
    "    val += temp2.iloc[i]['TotalRevenue']\n",
    "    result += [val,]\n",
    "temp2['cummulative_profit'] = np.array(result[1:])/val\n",
    "temp2['Total_profit'] = (np.array(result[1:])-np.array(result[:-1]))/val\n",
    "for i in [0.01,0.1,1,2,5,10,20,50,60]:\n",
    "    num = int(len(temp2)*1.*i/100)\n",
    "    print num,\n",
    "    print 'Top %s percent of products,%s percent of profit'%(i,100*np.round(temp2.loc[num]['cummulative_profit'],2))\n",
    "plt.plot(temp2['cummulative_profit']);plt.show()\n",
    "x = 10\n",
    "print np.sum(temp2['num_times_brought']>x)\n",
    "print 'threshold=',x,',',np.round(np.mean(temp2['num_times_brought']>x),2),'of products account for',\n",
    "print np.round(np.sum(temp2[temp2['num_times_brought']>x]['TotalRevenue'])/np.sum(temp2['TotalRevenue']),3),'of revenue\\n\\n'\n",
    "temp3 = temp2[temp2['num_times_brought']>x]\n",
    "data2 = pd.merge(data,temp3[['StockCode_NR','num_times_brought','Total_profit']]\n",
    "         ,on='StockCode_NR',how='inner')\n"
   ]
  },
  {
   "cell_type": "code",
   "execution_count": null,
   "metadata": {
    "collapsed": true,
    "deletable": true,
    "editable": true
   },
   "outputs": [],
   "source": [
    "customer_info = data.groupby(['CustomerID',])['TotalRevenue'].apply(sum).reset_index(drop=False)\n",
    "customer_info = customer_info.sort_values('TotalRevenue').iloc[::-1].reset_index(drop=False)\n",
    "\n",
    "for year in pd.unique(data.Year):\n",
    "    for month in sorted(map(int,pd.unique(data.Month))):\n",
    "        temp0  =  data2[(data2.Year==year) & (data2.Month==month)]\n",
    "        if len(temp0) == 0:\n",
    "            continue\n",
    "        temp = temp0.groupby(['CustomerID',])['TotalRevenue'].apply(sum).reset_index(drop=False)\n",
    "        temp2 = temp.sort_values('TotalRevenue').iloc[::-1].reset_index(drop=True)\n",
    "        result,val = [] ,0\n",
    "        for i in range(len(temp2)):\n",
    "            val += temp2.iloc[i]['TotalRevenue']\n",
    "            result += [val,]\n",
    "        temp2['cummulative_profit'] = np.array(result)/val\n",
    "        temp2.rename(columns={'TotalRevenue' : 'Revenue_%s_%s'%(year,month)},inplace=True)\n",
    "        customer_info = pd.merge(customer_info,temp2[temp2.keys()[:2]],on='CustomerID',how='left').fillna(0)\n",
    "    "
   ]
  },
  {
   "cell_type": "code",
   "execution_count": null,
   "metadata": {
    "collapsed": false,
    "deletable": true,
    "editable": true
   },
   "outputs": [],
   "source": [
    "dictt_StockCode = {}\n",
    "counter = 0\n",
    "for i in data2.groupby(['num_times_brought','StockCode_NR']).apply(len).reset_index(drop=False)['StockCode_NR'].iloc[::-1]:\n",
    "    dictt_StockCode[i] = counter\n",
    "    counter += 1\n",
    "data2['StockCode_NR_int'] = data2['StockCode_NR'].map(dictt_StockCode)\n",
    "print counter"
   ]
  },
  {
   "cell_type": "code",
   "execution_count": null,
   "metadata": {
    "collapsed": false,
    "deletable": true,
    "editable": true
   },
   "outputs": [],
   "source": [
    "train = data2[((data2['Year']==2010)*(data2['Month'].isin([12,]))) | \\\n",
    "              ((data2['Year']==2011)*(data2['Month'].isin([1,2,3,4])))]\n",
    "test = data2[ ((data2['Year']==2011)*(data2['Month'].isin([5])))]\n",
    "test2 = data2[ ((data2['Year']==2011)*(data2['Month'].isin([6,])))]\n",
    "test3 = data2[ ((data2['Year']==2011)*(data2['Month'].isin([7,])))]\n",
    "test4 = data2[ ((data2['Year']==2011)*(data2['Month'].isin([6,7,])))]\n",
    "test5 = data2[ ((data2['Year']==2011)*(data2['Month'].isin([6,7,8,9,10,11])))]\n",
    "\n",
    "len(train),len(test),len(test2),len(test3),len(test4),len(test5)"
   ]
  },
  {
   "cell_type": "code",
   "execution_count": null,
   "metadata": {
    "collapsed": true,
    "deletable": true,
    "editable": true
   },
   "outputs": [],
   "source": [
    "#get all orders from customer during time period \n",
    "Invoice = train.groupby(['CustomerID',]).apply(lambda x :(list(x['StockCode_NR_int']),\n",
    "                                                         list(x['Quantity']))).reset_index(drop=0)\n",
    "#print Invoice.head()\n",
    "customer_info_orders = pd.merge(customer_info,Invoice,on='CustomerID',how='outer')\n",
    "customer_info_orders.rename(columns={0 : 'orders'},inplace=True)\n",
    "\n",
    "Invoice_future = test.groupby(['CustomerID',]).apply(lambda x :(list(x['StockCode_NR_int']),\n",
    "                                                         list(x['Quantity']))).reset_index(drop=0)\n",
    "#print Invoice.head()\n",
    "customer_info_orders = pd.merge(customer_info_orders,Invoice_future,on='CustomerID',how='outer')\n",
    "customer_info_orders.rename(columns={0 : 'orders_future'},inplace=True)\n",
    "\n",
    "Invoice_future = test2.groupby(['CustomerID',]).apply(lambda x :(list(x['StockCode_NR_int']),\n",
    "                                                         list(x['Quantity']))).reset_index(drop=0)\n",
    "#print Invoice.head()\n",
    "customer_info_orders = pd.merge(customer_info_orders,Invoice_future,on='CustomerID',how='outer')\n",
    "customer_info_orders.rename(columns={0 : 'orders_future2'},inplace=True)\n",
    "\n",
    "Invoice_future = test3.groupby(['CustomerID',]).apply(lambda x :(list(x['StockCode_NR_int']),\n",
    "                                                         list(x['Quantity']))).reset_index(drop=0)\n",
    "#print Invoice.head()\n",
    "customer_info_orders = pd.merge(customer_info_orders,Invoice_future,on='CustomerID',how='outer')\n",
    "customer_info_orders.rename(columns={0 : 'orders_future3'},inplace=True)\n",
    "\n",
    "Invoice_future = test4.groupby(['CustomerID',]).apply(lambda x :(list(x['StockCode_NR_int']),\n",
    "                                                         list(x['Quantity']))).reset_index(drop=0)\n",
    "#print Invoice.head()\n",
    "customer_info_orders = pd.merge(customer_info_orders,Invoice_future,on='CustomerID',how='outer')\n",
    "customer_info_orders.rename(columns={0 : 'orders_future4'},inplace=True)\n",
    "\n",
    "Invoice_future = test5.groupby(['CustomerID',]).apply(lambda x :(list(x['StockCode_NR_int']),\n",
    "                                                         list(x['Quantity']))).reset_index(drop=0)\n",
    "#print Invoice.head()\n",
    "customer_info_orders = pd.merge(customer_info_orders,Invoice_future,on='CustomerID',how='outer')\n",
    "customer_info_orders.rename(columns={0 : 'orders_future5'},inplace=True)\n",
    "\n",
    "customer_info_orders = customer_info_orders.sort_values('CustomerID').reset_index(drop=True)\n",
    "#print customer_info_orders"
   ]
  },
  {
   "cell_type": "code",
   "execution_count": null,
   "metadata": {
    "collapsed": false,
    "deletable": true,
    "editable": true
   },
   "outputs": [],
   "source": [
    "matrix_past = np.zeros((len(customer_info_orders),counter)).astype(np.float32)\n",
    "for i in range(len(customer_info_orders)):\n",
    "    try:\n",
    "        pdt,quantity = customer_info_orders.iloc[i]['orders']\n",
    "        for j,k in zip(pdt,quantity):\n",
    "            matrix_past[i,j] += k\n",
    "    except TypeError : None #no orders presetn\n",
    "\n",
    "import gc \n",
    "gc.collect()"
   ]
  },
  {
   "cell_type": "code",
   "execution_count": null,
   "metadata": {
    "collapsed": false,
    "deletable": true,
    "editable": true
   },
   "outputs": [],
   "source": [
    "matrix_future = np.zeros((len(customer_info_orders),counter)).astype(np.float32)\n",
    "for i in range(len(customer_info_orders)):\n",
    "    try:\n",
    "        pdt,quantity = customer_info_orders.iloc[i]['orders_future']\n",
    "        for j,k in zip(pdt,quantity):\n",
    "            matrix_future[i,j] += k\n",
    "    except TypeError : None #no orders presetn\n",
    "\n",
    "import gc \n",
    "gc.collect()"
   ]
  },
  {
   "cell_type": "code",
   "execution_count": null,
   "metadata": {
    "collapsed": false,
    "deletable": true,
    "editable": true
   },
   "outputs": [],
   "source": [
    "matrix_future2 = np.zeros((len(customer_info_orders),counter)).astype(np.float32)\n",
    "for i in range(len(customer_info_orders)):\n",
    "    try:\n",
    "        pdt,quantity = customer_info_orders.iloc[i]['orders_future2']\n",
    "        for j,k in zip(pdt,quantity):\n",
    "            matrix_future2[i,j] += k\n",
    "    except TypeError : None #no orders presetn\n",
    "\n",
    "import gc \n",
    "gc.collect()"
   ]
  },
  {
   "cell_type": "code",
   "execution_count": null,
   "metadata": {
    "collapsed": false,
    "deletable": true,
    "editable": true
   },
   "outputs": [],
   "source": [
    "matrix_future3 = np.zeros((len(customer_info_orders),counter)).astype(np.float32)\n",
    "for i in range(len(customer_info_orders)):\n",
    "    try:\n",
    "        pdt,quantity = customer_info_orders.iloc[i]['orders_future3']\n",
    "        for j,k in zip(pdt,quantity):\n",
    "            matrix_future3[i,j] += k\n",
    "    except TypeError : None #no orders presetn\n",
    "\n",
    "import gc \n",
    "gc.collect()"
   ]
  },
  {
   "cell_type": "code",
   "execution_count": null,
   "metadata": {
    "collapsed": false,
    "deletable": true,
    "editable": true
   },
   "outputs": [],
   "source": [
    "matrix_future4 = np.zeros((len(customer_info_orders),counter)).astype(np.float32)\n",
    "for i in range(len(customer_info_orders)):\n",
    "    try:\n",
    "        pdt,quantity = customer_info_orders.iloc[i]['orders_future4']\n",
    "        for j,k in zip(pdt,quantity):\n",
    "            matrix_future4[i,j] += k\n",
    "    except TypeError : None #no orders presetn\n",
    "\n",
    "import gc \n",
    "gc.collect()"
   ]
  },
  {
   "cell_type": "code",
   "execution_count": null,
   "metadata": {
    "collapsed": false,
    "deletable": true,
    "editable": true
   },
   "outputs": [],
   "source": [
    "matrix_future5 = np.zeros((len(customer_info_orders),counter)).astype(np.float32)\n",
    "for i in range(len(customer_info_orders)):\n",
    "    try:\n",
    "        pdt,quantity = customer_info_orders.iloc[i]['orders_future5']\n",
    "        for j,k in zip(pdt,quantity):\n",
    "            matrix_future5[i,j] += k\n",
    "    except TypeError : None #no orders presetn\n",
    "\n",
    "import gc \n",
    "gc.collect()"
   ]
  },
  {
   "cell_type": "code",
   "execution_count": null,
   "metadata": {
    "collapsed": false,
    "deletable": true,
    "editable": true
   },
   "outputs": [],
   "source": [
    "customer_info_orders.head()"
   ]
  },
  {
   "cell_type": "code",
   "execution_count": null,
   "metadata": {
    "collapsed": false,
    "deletable": true,
    "editable": true
   },
   "outputs": [],
   "source": [
    "# recommendation system , for our case since entries are small, we use SVD to do matrix factorization\n",
    "# instead of a less expensive but approximate algorithm like alternating last squares. WARNING This is not scalable. \n",
    "U,D,V = np.linalg.svd(matrix_past)\n",
    "print len(D)"
   ]
  },
  {
   "cell_type": "code",
   "execution_count": null,
   "metadata": {
    "collapsed": false,
    "deletable": true,
    "editable": true
   },
   "outputs": [],
   "source": [
    "num = 500\n",
    "U2=U[:,:num]\n",
    "D2=D[:num]\n",
    "V2=V[:num]\n",
    "Z = sum(D)\n",
    "print sum(D2)/Z\n",
    "plt.plot(map(lambda x : np.sum(D[:x])/Z,range(len(D2))))\n",
    "plt.show()\n",
    "print matrix_past\n",
    "np.matmul(np.matmul(U2,np.diag(D2)),V2)"
   ]
  },
  {
   "cell_type": "code",
   "execution_count": null,
   "metadata": {
    "collapsed": false,
    "deletable": true,
    "editable": true
   },
   "outputs": [],
   "source": [
    "customer_info_orders.iloc[0]"
   ]
  },
  {
   "cell_type": "code",
   "execution_count": null,
   "metadata": {
    "collapsed": true,
    "deletable": true,
    "editable": true
   },
   "outputs": [],
   "source": [
    "for i in range(counter):\n",
    "    customer_info_orders[i] = matrix_past[:,i].astype(np.uint16)\n",
    "for i in range(U2.shape[1]):\n",
    "    customer_info_orders['svd_'+str(i)] = U2[:,i].astype(np.float32)"
   ]
  },
  {
   "cell_type": "code",
   "execution_count": null,
   "metadata": {
    "collapsed": false,
    "deletable": true,
    "editable": true
   },
   "outputs": [],
   "source": [
    "cols"
   ]
  },
  {
   "cell_type": "code",
   "execution_count": null,
   "metadata": {
    "collapsed": false,
    "deletable": true,
    "editable": true
   },
   "outputs": [],
   "source": [
    "colsA =  ['Revenue_2011_' + str(x) for x in [1,2,3,4]]+['Revenue_2010_12']\n",
    "print np.corrcoef(customer_info_orders['target2'].values,\n",
    "           np.mean(np.log10(1+customer_info_orders[colsA].values),1))"
   ]
  },
  {
   "cell_type": "code",
   "execution_count": null,
   "metadata": {
    "collapsed": false,
    "deletable": true,
    "editable": true
   },
   "outputs": [],
   "source": [
    "customer_info_orders.iloc[5]"
   ]
  },
  {
   "cell_type": "code",
   "execution_count": null,
   "metadata": {
    "collapsed": false,
    "deletable": true,
    "editable": true
   },
   "outputs": [],
   "source": [
    "customer_info_orders.keys()[3:8]"
   ]
  },
  {
   "cell_type": "code",
   "execution_count": null,
   "metadata": {
    "collapsed": false,
    "deletable": true,
    "editable": true,
    "scrolled": false
   },
   "outputs": [],
   "source": [
    "import xgboost as xgb\n",
    "#predict customer orders\n",
    "'''\n",
    "train = data2[((data2['Year']==2010)*(data2['Month'].isin([12,]))) | \\\n",
    "              ((data2['Year']==2011)*(data2['Month'].isin([1,2,3,4])))]\n",
    "test = data2[ ((data2['Year']==2011)*(data2['Month'].isin([5])))]\n",
    "test2 = data2[ ((data2['Year']==2011)*(data2['Month'].isin([6,])))]\n",
    "test3 = data2[ ((data2['Year']==2011)*(data2['Month'].isin([7,])))]\n",
    "test4 = data2[ ((data2['Year']==2011)*(data2['Month'].isin([6,7,])))]\n",
    "test5 = data2[ ((data2['Year']==2011)*(data2['Month'].isin([6,7,8,9,10,11])))]\n",
    "\n",
    "len(train),len(test),len(test2),len(test3),len(test4),len(test5)\n",
    "'''\n",
    "customer_info_orders.columns = [regex.sub(\"_\", col) if any(x in str(col) for x in set(('[', ']', '<'))) else col for col in customer_info_orders.columns.values]\n",
    "\n",
    "predictors = list(customer_info_orders.keys()[3:8])+\\\n",
    "                     list([x for x in customer_info_orders.keys() if 'svd' in str(x)])+\\\n",
    "                     range(counter) +['mean_log_rev_train',]\n",
    "colsA =  ['Revenue_2011_' + str(x) for x in [1,2,3,4]]+['Revenue_2010_12']\n",
    "customer_info_orders['mean_log_rev_train']= np.mean(np.log10(1+customer_info_orders[colsA].values),1)\n",
    "\n",
    "target = 'target'\n",
    "gc.collect()\n",
    "for i in range(2,6):\n",
    "    cols = [[0,],[0,],[6,],[7,],[6,7],[6,7,8,9,10,11]][i]\n",
    "    cols = ['Revenue_2011_'+str(x) for x in cols]\n",
    "    customer_info_orders[target+str(i)]= np.mean(np.log10(1+customer_info_orders[cols].values),1)\n",
    "    print cols\n",
    "print customer_info_orders.keys()\n",
    "if True:\n",
    "    customer_info_orders[target]= np.log10(1+np.mean(customer_info_orders[['Revenue_2011_5',]].values,1))\n",
    "    dtrain = customer_info_orders.iloc[::2]\n",
    "    dcv = customer_info_orders.iloc[1::2]\n",
    "    dtest = customer_info_orders\n",
    "    gc.collect()\n",
    "    params = {}\n",
    "    params[\"objective\"] = \"reg:linear\"\n",
    "    params[\"eta\"] = 0.05\n",
    "    params[\"min_child_weight\"] = 1\n",
    "    params[\"subsample\"] = 0.3\n",
    "    params[\"colsample_bytree\"] = 0.3\n",
    "    params[\"scale_pos_weight\"] = 1.0\n",
    "    params[\"silent\"] = 1\n",
    "    params[\"verbose\"] = 1\n",
    "    params[\"max_depth\"] = 5\n",
    "    #params[\"nthread\"] = 6\n",
    "    params[\"nthread\"] = -1\n",
    "    early_stopping_rounds = 50\n",
    "    plst = list(params.items())\n",
    "    xgtrain = xgb.DMatrix(dtrain[predictors].values, label=dtrain[target].values)\n",
    "    xgcv = xgb.DMatrix(dcv[predictors].values, label=dcv[target].values)\n",
    "    xgtest2 = xgb.DMatrix(dtest[predictors].values, label=dtest[target+'2'].values)\n",
    "    xgtest3 = xgb.DMatrix(dtest[predictors].values, label=dtest[target+'3'].values)\n",
    "    xgtest4 = xgb.DMatrix(dtest[predictors].values, label=dtest[target+'4'].values)\n",
    "    xgtest5 = xgb.DMatrix(dtest[predictors].values, label=dtest[target+'5'].values)\n",
    "    #    xgb.train(xgtrain[predictors],dtrain['Demanda_uni_equil'],eval_set=evallist ,\n",
    "    #            eval_metric='rmse', early_stopping_rounds=early_stopping_rounds)\n",
    "    watchlist  = [ (xgtrain,'train'),(xgtest2,'2month'),(xgtest3,'3month'),\n",
    "                  (xgtest4,'4month'),(xgtest5,'5month'),(xgcv,'eval')]\n",
    "    a = {}\n",
    "    model=xgb.train(plst,xgtrain,4500,watchlist,verbose_eval =5000,\n",
    "                    early_stopping_rounds=early_stopping_rounds,evals_result=a)\n",
    "    print np.corrcoef(model.predict(xgtest2)[1::2],customer_info_orders['target'].iloc[1::2])\n",
    "    for j in range(2,6):\n",
    "        j = str(j)\n",
    "        print np.corrcoef(model.predict(xgtest2),customer_info_orders['target'+j])"
   ]
  },
  {
   "cell_type": "code",
   "execution_count": null,
   "metadata": {
    "collapsed": false,
    "deletable": true,
    "editable": true
   },
   "outputs": [],
   "source": [
    "plt.hist(customer_info_orders['target5']);plt.show()\n",
    "plt.hist(customer_info_orders['target4']);plt.show()\n",
    "plt.hist(customer_info_orders['target3']);plt.show()\n",
    "plt.hist(customer_info_orders['target2']);plt.show()\n",
    "\n",
    "plt.plot(model.predict(xgtest3),customer_info_orders['target'],'ro',markersize=1);plt.show()\n",
    "plt.plot(model.predict(xgtest2),customer_info_orders['target5'],'go',markersize=1);plt.show()\n",
    "#plt.plot(model.predict(xgtest3),customer_info_orders['target4'],'bo')\n",
    "#plt.plot(model.predict(xgtest3),customer_info_orders['target5'],'yo')\n",
    "plt.show()"
   ]
  },
  {
   "cell_type": "code",
   "execution_count": null,
   "metadata": {
    "collapsed": false,
    "deletable": true,
    "editable": true
   },
   "outputs": [],
   "source": [
    "import xgboost as xgb\n",
    "customer_info_orders.columns = [regex.sub(\"_\", col) if any(x in str(col) for x in set(('[', ']', '<'))) else col for col in customer_info_orders.columns.values]\n",
    "\n",
    "predictors = list(customer_info_orders.keys()[3:6])+\\\n",
    "                     list([x for x in customer_info_orders.keys() if 'svd' in str(x)])+\\\n",
    "                     range(counter)\n",
    "target = 'target'\n",
    "for i in range(10):\n",
    "    customer_info_orders[target]= np.log10(1+matrix_future[:,i])\n",
    "    customer_info_orders[target+'2']= np.log10(1+matrix_future2[:,i])\n",
    "    customer_info_orders[target+'3']= np.log10(1+matrix_future3[:,i])\n",
    "    customer_info_orders[target+'4']= np.log10(1+matrix_future4[:,i])\n",
    "    customer_info_orders[target+'5']= np.log10(1+matrix_future5[:,i])\n",
    "    dtrain = customer_info_orders.iloc[::2]\n",
    "    dcv = customer_info_orders.iloc[1::2]\n",
    "    dtest = customer_info_orders\n",
    "    gc.collect()\n",
    "    params = {}\n",
    "    params[\"objective\"] = \"reg:linear\"\n",
    "    params[\"eta\"] = 0.05\n",
    "    params[\"min_child_weight\"] = 1\n",
    "    params[\"subsample\"] = 0.3\n",
    "    params[\"colsample_bytree\"] = 0.3\n",
    "    params[\"scale_pos_weight\"] = 1.0\n",
    "    params[\"silent\"] = 1\n",
    "    params[\"verbose\"] = 1\n",
    "    params[\"max_depth\"] = 5\n",
    "    #params[\"nthread\"] = 6\n",
    "    params[\"nthread\"] = -1\n",
    "    early_stopping_rounds = 50\n",
    "    plst = list(params.items())\n",
    "    xgtrain = xgb.DMatrix(dtrain[predictors].values, label=dtrain[target].values)\n",
    "    xgcv = xgb.DMatrix(dcv[predictors].values, label=dcv[target].values)\n",
    "    xgtest2 = xgb.DMatrix(dtest[predictors].values, label=dtest[target+'2'].values)\n",
    "    xgtest3 = xgb.DMatrix(dtest[predictors].values, label=dtest[target+'3'].values)\n",
    "    xgtest4 = xgb.DMatrix(dtest[predictors].values, label=dtest[target+'4'].values)\n",
    "    xgtest5 = xgb.DMatrix(dtest[predictors].values, label=dtest[target+'5'].values)\n",
    "    #    xgb.train(xgtrain[predictors],dtrain['Demanda_uni_equil'],eval_set=evallist ,\n",
    "    #            eval_metric='rmse', early_stopping_rounds=early_stopping_rounds)\n",
    "    watchlist  = [ (xgtrain,'train'),(xgtest2,'2month'),(xgtest3,'3month'),\n",
    "                  (xgtest4,'4month'),(xgtest5,'5month'),(xgcv,'eval')]\n",
    "    a = {}\n",
    "    model=xgb.train(plst,xgtrain,4500,watchlist,verbose_eval =5000,\n",
    "                    early_stopping_rounds=early_stopping_rounds,evals_result=a)\n",
    "    for j in range(2,6):\n",
    "        j = str(j)\n",
    "        print np.corrcoef(model.predict(xgtest3),customer_info_orders['target'+j])"
   ]
  },
  {
   "cell_type": "code",
   "execution_count": null,
   "metadata": {
    "collapsed": false,
    "deletable": true,
    "editable": true,
    "scrolled": false
   },
   "outputs": [],
   "source": [
    "params = {}\n",
    "params[\"objective\"] = \"reg:linear\"\n",
    "params[\"eta\"] = 0.05\n",
    "params[\"min_child_weight\"] = 1\n",
    "params[\"subsample\"] = 0.3\n",
    "params[\"colsample_bytree\"] = 0.3\n",
    "params[\"scale_pos_weight\"] = 1.0\n",
    "params[\"silent\"] = 1\n",
    "params[\"verbose\"] = 1\n",
    "params[\"max_depth\"] = 5\n",
    "#params[\"nthread\"] = 6\n",
    "params[\"nthread\"] = -1\n",
    "early_stopping_rounds = 50\n",
    "plst = list(params.items())\n",
    "xgtrain = xgb.DMatrix(dtrain[predictors].values, label=dtrain[target].values)\n",
    "xgcv = xgb.DMatrix(dcv[predictors].values, label=dcv[target].values)\n",
    "xgtest2 = xgb.DMatrix(dtest[predictors].values, label=dtest[target+'2'].values)\n",
    "xgtest3 = xgb.DMatrix(dtest[predictors].values, label=dtest[target+'3'].values)\n",
    "xgtest4 = xgb.DMatrix(dtest[predictors].values, label=dtest[target+'4'].values)\n",
    "xgtest5 = xgb.DMatrix(dtest[predictors].values, label=dtest[target+'5'].values)\n",
    "#    xgb.train(xgtrain[predictors],dtrain['Demanda_uni_equil'],eval_set=evallist ,\n",
    "#            eval_metric='rmse', early_stopping_rounds=early_stopping_rounds)\n",
    "watchlist  = [ (xgtrain,'train'),(xgtest2,'2month'),(xgtest3,'3month'),\n",
    "              (xgtest4,'4month'),(xgtest5,'5month'),(xgcv,'eval')]\n",
    "a = {}\n",
    "model=xgb.train(plst,xgtrain,4500,watchlist,verbose_eval =50,\n",
    "                early_stopping_rounds=early_stopping_rounds,evals_result=a)\n",
    "model.get_fscore"
   ]
  },
  {
   "cell_type": "code",
   "execution_count": null,
   "metadata": {
    "collapsed": true,
    "deletable": true,
    "editable": true
   },
   "outputs": [],
   "source": [
    "U.shape"
   ]
  },
  {
   "cell_type": "code",
   "execution_count": null,
   "metadata": {
    "collapsed": true,
    "deletable": true,
    "editable": true
   },
   "outputs": [],
   "source": [
    "V.shape"
   ]
  },
  {
   "cell_type": "code",
   "execution_count": null,
   "metadata": {
    "collapsed": true,
    "deletable": true,
    "editable": true
   },
   "outputs": [],
   "source": [
    "\n",
    "for i in range(len(predictors)):\n",
    "    try:\n",
    "        print model.get_fscore()['f'+str(i)],predictors[i]\n",
    "    except : \n",
    "        print 0,predictors[i]"
   ]
  },
  {
   "cell_type": "code",
   "execution_count": null,
   "metadata": {
    "collapsed": true,
    "deletable": true,
    "editable": true
   },
   "outputs": [],
   "source": [
    "np.matmul(np.matmul(U,np.diag(np.concatenate([D,[0,]*(len(U)-len(D))]))[:,:len(V)]),V)"
   ]
  }
 ],
 "metadata": {
  "kernelspec": {
   "display_name": "Python 2",
   "language": "python",
   "name": "python2"
  },
  "language_info": {
   "codemirror_mode": {
    "name": "ipython",
    "version": 2
   },
   "file_extension": ".py",
   "mimetype": "text/x-python",
   "name": "python",
   "nbconvert_exporter": "python",
   "pygments_lexer": "ipython2",
   "version": "2.7.12"
  }
 },
 "nbformat": 4,
 "nbformat_minor": 2
}
